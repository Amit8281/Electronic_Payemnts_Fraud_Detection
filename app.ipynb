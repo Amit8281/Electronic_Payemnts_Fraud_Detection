{
 "cells": [
  {
   "cell_type": "code",
   "execution_count": 3,
   "id": "b59aec9a",
   "metadata": {},
   "outputs": [
    {
     "name": "stderr",
     "output_type": "stream",
     "text": [
      "D:\\jupyter\\lib\\site-packages\\gradio\\inputs.py:59: UserWarning: Usage of gradio.inputs is deprecated, and will not be supported in the future, please import your component from gradio.components\n",
      "  warnings.warn(\n",
      "D:\\jupyter\\lib\\site-packages\\gradio\\inputs.py:62: UserWarning: `optional` parameter is deprecated, and it has no effect\n",
      "  super().__init__(value=default, label=label, optional=optional)\n",
      "D:\\jupyter\\lib\\site-packages\\gradio\\inputs.py:121: UserWarning: Usage of gradio.inputs is deprecated, and will not be supported in the future, please import your component from gradio.components\n",
      "  warnings.warn(\n",
      "D:\\jupyter\\lib\\site-packages\\gradio\\inputs.py:124: UserWarning: `optional` parameter is deprecated, and it has no effect\n",
      "  super().__init__(value=default, label=label, optional=optional)\n"
     ]
    },
    {
     "name": "stdout",
     "output_type": "stream",
     "text": [
      "Running on local URL:  http://127.0.0.1:7860\n",
      "\n",
      "To create a public link, set `share=True` in `launch()`.\n"
     ]
    },
    {
     "data": {
      "text/html": [
       "<div><iframe src=\"http://127.0.0.1:7860/\" width=\"100%\" height=\"500\" allow=\"autoplay; camera; microphone; clipboard-read; clipboard-write;\" frameborder=\"0\" allowfullscreen></iframe></div>"
      ],
      "text/plain": [
       "<IPython.core.display.HTML object>"
      ]
     },
     "metadata": {},
     "output_type": "display_data"
    },
    {
     "data": {
      "text/plain": []
     },
     "execution_count": 3,
     "metadata": {},
     "output_type": "execute_result"
    }
   ],
   "source": [
    "import pickle\n",
    "import pandas as pd\n",
    "import gradio as gr\n",
    "\n",
    "# Load the trained model\n",
    "model = pickle.load(open('logistic_regression_model.pkl', 'rb'))\n",
    "\n",
    "def predict_is_fraud(amount, log_amount, balance_diff_orig, balance_diff_dest, type_CASH_OUT, type_TRANSFER, amount_mean_rolling, amount_oldbalanceOrg):\n",
    "    # Prepare the input data as a DataFrame\n",
    "    data = pd.DataFrame({\n",
    "        'amount': [amount],\n",
    "        'log_amount': [log_amount],\n",
    "        'balance_diff_orig': [balance_diff_orig],\n",
    "        'balance_diff_dest': [balance_diff_dest],\n",
    "        'type_CASH_OUT': [type_CASH_OUT],\n",
    "        'type_TRANSFER': [type_TRANSFER],\n",
    "        'amount_mean_rolling': [amount_mean_rolling],\n",
    "        'amount_oldbalanceOrg': [amount_oldbalanceOrg]\n",
    "    })\n",
    "\n",
    "    # Perform the prediction\n",
    "    prediction = model.predict(data)[0]\n",
    "    return \"Fraudulent\" if prediction == 1 else \"Not Fraudulent\"\n",
    "\n",
    "# Create the input components\n",
    "input_components = [\n",
    "    gr.inputs.Number(label=\"Amount\"),\n",
    "    gr.inputs.Number(label=\"Log Amount\"),\n",
    "    gr.inputs.Number(label=\"Balance Difference Origin\"),\n",
    "    gr.inputs.Number(label=\"Balance Difference Destination\"),\n",
    "    gr.inputs.Checkbox(label=\"Type CASH_OUT\"),\n",
    "    gr.inputs.Checkbox(label=\"Type TRANSFER\"),\n",
    "    gr.inputs.Number(label=\"Amount Mean Rolling\"),\n",
    "    gr.inputs.Number(label=\"Amount Old Balance Origin\")\n",
    "]\n",
    "\n",
    "# Create the interface\n",
    "interface = gr.Interface(\n",
    "    fn=predict_is_fraud,\n",
    "    inputs=input_components,\n",
    "    outputs=\"text\",\n",
    "    title=\"Fraud Detection\",\n",
    "    description=\"Predict if a transaction is fraudulent.\"\n",
    ")\n",
    "\n",
    "# Launch the interface\n",
    "interface.launch()\n"
   ]
  },
  {
   "cell_type": "code",
   "execution_count": 2,
   "id": "055db558",
   "metadata": {},
   "outputs": [
    {
     "name": "stdout",
     "output_type": "stream",
     "text": [
      "Collecting gradio\n",
      "  Downloading gradio-3.33.1-py3-none-any.whl (20.0 MB)\n",
      "Collecting huggingface-hub>=0.14.0\n",
      "  Downloading huggingface_hub-0.15.1-py3-none-any.whl (236 kB)\n",
      "Requirement already satisfied: pillow in d:\\jupyter\\lib\\site-packages (from gradio) (9.0.1)\n",
      "Collecting gradio-client>=0.2.4\n",
      "  Downloading gradio_client-0.2.5-py3-none-any.whl (288 kB)\n",
      "Collecting python-multipart\n",
      "  Downloading python_multipart-0.0.6-py3-none-any.whl (45 kB)\n",
      "Requirement already satisfied: aiohttp in d:\\jupyter\\lib\\site-packages (from gradio) (3.8.1)\n",
      "Requirement already satisfied: websockets>=10.0 in d:\\jupyter\\lib\\site-packages (from gradio) (10.4)\n",
      "Collecting ffmpy\n",
      "  Downloading ffmpy-0.3.0.tar.gz (4.8 kB)\n",
      "Requirement already satisfied: numpy in d:\\jupyter\\lib\\site-packages (from gradio) (1.22.4)\n",
      "Requirement already satisfied: pygments>=2.12.0 in d:\\jupyter\\lib\\site-packages (from gradio) (2.14.0)\n",
      "Requirement already satisfied: markdown-it-py[linkify]>=2.0.0 in d:\\jupyter\\lib\\site-packages (from gradio) (2.2.0)\n",
      "Collecting fastapi\n",
      "  Downloading fastapi-0.96.0-py3-none-any.whl (57 kB)\n",
      "Requirement already satisfied: markupsafe in d:\\jupyter\\lib\\site-packages (from gradio) (2.0.1)\n",
      "Requirement already satisfied: pyyaml in d:\\jupyter\\lib\\site-packages (from gradio) (6.0)\n",
      "Collecting uvicorn>=0.14.0\n",
      "  Downloading uvicorn-0.22.0-py3-none-any.whl (58 kB)\n",
      "Requirement already satisfied: pandas in d:\\jupyter\\lib\\site-packages (from gradio) (1.4.2)\n",
      "Requirement already satisfied: jinja2 in d:\\jupyter\\lib\\site-packages (from gradio) (2.11.3)\n",
      "Collecting pydub\n",
      "  Downloading pydub-0.25.1-py2.py3-none-any.whl (32 kB)\n",
      "Collecting orjson\n",
      "  Downloading orjson-3.9.0-cp39-none-win_amd64.whl (191 kB)\n",
      "Collecting httpx\n",
      "  Downloading httpx-0.24.1-py3-none-any.whl (75 kB)\n",
      "Requirement already satisfied: pydantic in d:\\jupyter\\lib\\site-packages (from gradio) (1.10.6)\n",
      "Requirement already satisfied: requests in d:\\jupyter\\lib\\site-packages (from gradio) (2.27.1)\n",
      "Collecting semantic-version\n",
      "  Downloading semantic_version-2.10.0-py2.py3-none-any.whl (15 kB)\n",
      "Requirement already satisfied: altair>=4.2.0 in d:\\jupyter\\lib\\site-packages (from gradio) (4.2.2)\n",
      "Collecting mdit-py-plugins<=0.3.3\n",
      "  Downloading mdit_py_plugins-0.3.3-py3-none-any.whl (50 kB)\n",
      "Requirement already satisfied: matplotlib in d:\\jupyter\\lib\\site-packages (from gradio) (3.5.1)\n",
      "Requirement already satisfied: typing-extensions in d:\\jupyter\\lib\\site-packages (from gradio) (4.5.0)\n",
      "Collecting aiofiles\n",
      "  Downloading aiofiles-23.1.0-py3-none-any.whl (14 kB)\n",
      "Requirement already satisfied: jsonschema>=3.0 in d:\\jupyter\\lib\\site-packages (from altair>=4.2.0->gradio) (4.4.0)\n",
      "Requirement already satisfied: entrypoints in d:\\jupyter\\lib\\site-packages (from altair>=4.2.0->gradio) (0.4)\n",
      "Requirement already satisfied: toolz in d:\\jupyter\\lib\\site-packages (from altair>=4.2.0->gradio) (0.11.2)\n",
      "Requirement already satisfied: fsspec in d:\\jupyter\\lib\\site-packages (from gradio-client>=0.2.4->gradio) (2022.2.0)\n",
      "Requirement already satisfied: packaging in d:\\jupyter\\lib\\site-packages (from gradio-client>=0.2.4->gradio) (21.3)\n",
      "Requirement already satisfied: filelock in d:\\jupyter\\lib\\site-packages (from huggingface-hub>=0.14.0->gradio) (3.6.0)\n",
      "Requirement already satisfied: tqdm>=4.42.1 in d:\\jupyter\\lib\\site-packages (from huggingface-hub>=0.14.0->gradio) (4.64.0)\n",
      "Requirement already satisfied: pyrsistent!=0.17.0,!=0.17.1,!=0.17.2,>=0.14.0 in d:\\jupyter\\lib\\site-packages (from jsonschema>=3.0->altair>=4.2.0->gradio) (0.18.0)\n",
      "Requirement already satisfied: attrs>=17.4.0 in d:\\jupyter\\lib\\site-packages (from jsonschema>=3.0->altair>=4.2.0->gradio) (21.4.0)\n",
      "Requirement already satisfied: mdurl~=0.1 in d:\\jupyter\\lib\\site-packages (from markdown-it-py[linkify]>=2.0.0->gradio) (0.1.2)\n",
      "Collecting linkify-it-py<3,>=1\n",
      "  Downloading linkify_it_py-2.0.2-py3-none-any.whl (19 kB)\n",
      "Collecting uc-micro-py\n",
      "  Downloading uc_micro_py-1.0.2-py3-none-any.whl (6.2 kB)\n",
      "Requirement already satisfied: pyparsing!=3.0.5,>=2.0.2 in d:\\jupyter\\lib\\site-packages (from packaging->gradio-client>=0.2.4->gradio) (3.0.4)\n",
      "Requirement already satisfied: python-dateutil>=2.8.1 in d:\\jupyter\\lib\\site-packages (from pandas->gradio) (2.8.2)\n",
      "Requirement already satisfied: pytz>=2020.1 in d:\\jupyter\\lib\\site-packages (from pandas->gradio) (2021.3)\n",
      "Requirement already satisfied: six>=1.5 in d:\\jupyter\\lib\\site-packages (from python-dateutil>=2.8.1->pandas->gradio) (1.16.0)\n",
      "Requirement already satisfied: colorama in d:\\jupyter\\lib\\site-packages (from tqdm>=4.42.1->huggingface-hub>=0.14.0->gradio) (0.4.4)\n",
      "Requirement already satisfied: h11>=0.8 in d:\\jupyter\\lib\\site-packages (from uvicorn>=0.14.0->gradio) (0.14.0)\n",
      "Requirement already satisfied: click>=7.0 in d:\\jupyter\\lib\\site-packages (from uvicorn>=0.14.0->gradio) (8.0.4)\n",
      "Requirement already satisfied: yarl<2.0,>=1.0 in d:\\jupyter\\lib\\site-packages (from aiohttp->gradio) (1.6.3)\n",
      "Requirement already satisfied: charset-normalizer<3.0,>=2.0 in d:\\jupyter\\lib\\site-packages (from aiohttp->gradio) (2.0.4)\n",
      "Requirement already satisfied: aiosignal>=1.1.2 in d:\\jupyter\\lib\\site-packages (from aiohttp->gradio) (1.2.0)\n",
      "Requirement already satisfied: frozenlist>=1.1.1 in d:\\jupyter\\lib\\site-packages (from aiohttp->gradio) (1.2.0)\n",
      "Requirement already satisfied: multidict<7.0,>=4.5 in d:\\jupyter\\lib\\site-packages (from aiohttp->gradio) (5.1.0)\n",
      "Requirement already satisfied: async-timeout<5.0,>=4.0.0a3 in d:\\jupyter\\lib\\site-packages (from aiohttp->gradio) (4.0.1)\n",
      "Requirement already satisfied: idna>=2.0 in d:\\jupyter\\lib\\site-packages (from yarl<2.0,>=1.0->aiohttp->gradio) (3.3)\n",
      "Collecting starlette<0.28.0,>=0.27.0\n",
      "  Downloading starlette-0.27.0-py3-none-any.whl (66 kB)\n",
      "Requirement already satisfied: anyio<5,>=3.4.0 in d:\\jupyter\\lib\\site-packages (from starlette<0.28.0,>=0.27.0->fastapi->gradio) (3.5.0)\n",
      "Requirement already satisfied: sniffio>=1.1 in d:\\jupyter\\lib\\site-packages (from anyio<5,>=3.4.0->starlette<0.28.0,>=0.27.0->fastapi->gradio) (1.2.0)\n",
      "Collecting httpcore<0.18.0,>=0.15.0\n",
      "  Downloading httpcore-0.17.2-py3-none-any.whl (72 kB)\n",
      "Requirement already satisfied: certifi in d:\\jupyter\\lib\\site-packages (from httpx->gradio) (2021.10.8)\n",
      "Requirement already satisfied: fonttools>=4.22.0 in d:\\jupyter\\lib\\site-packages (from matplotlib->gradio) (4.25.0)\n",
      "Requirement already satisfied: kiwisolver>=1.0.1 in d:\\jupyter\\lib\\site-packages (from matplotlib->gradio) (1.3.2)\n",
      "Requirement already satisfied: cycler>=0.10 in d:\\jupyter\\lib\\site-packages (from matplotlib->gradio) (0.11.0)\n",
      "Requirement already satisfied: urllib3<1.27,>=1.21.1 in d:\\jupyter\\lib\\site-packages (from requests->gradio) (1.26.9)\n",
      "Building wheels for collected packages: ffmpy\n",
      "  Building wheel for ffmpy (setup.py): started\n",
      "  Building wheel for ffmpy (setup.py): finished with status 'done'\n",
      "  Created wheel for ffmpy: filename=ffmpy-0.3.0-py3-none-any.whl size=4712 sha256=826cfba94d1b76ac7e0a3b121235b62daf29032c49a224e9c83320d8f9ff6208\n",
      "  Stored in directory: c:\\users\\hp\\appdata\\local\\pip\\cache\\wheels\\91\\e2\\96\\f676aa08bfd789328c6576cd0f1fde4a3d686703bb0c247697\n",
      "Successfully built ffmpy\n",
      "Installing collected packages: uc-micro-py, httpcore, starlette, linkify-it-py, huggingface-hub, httpx, uvicorn, semantic-version, python-multipart, pydub, orjson, mdit-py-plugins, gradio-client, ffmpy, fastapi, aiofiles, gradio\n",
      "Successfully installed aiofiles-23.1.0 fastapi-0.96.0 ffmpy-0.3.0 gradio-3.33.1 gradio-client-0.2.5 httpcore-0.17.2 httpx-0.24.1 huggingface-hub-0.15.1 linkify-it-py-2.0.2 mdit-py-plugins-0.3.3 orjson-3.9.0 pydub-0.25.1 python-multipart-0.0.6 semantic-version-2.10.0 starlette-0.27.0 uc-micro-py-1.0.2 uvicorn-0.22.0\n"
     ]
    }
   ],
   "source": [
    "!pip install gradio\n"
   ]
  },
  {
   "cell_type": "code",
   "execution_count": null,
   "id": "533e115c",
   "metadata": {},
   "outputs": [],
   "source": []
  }
 ],
 "metadata": {
  "kernelspec": {
   "display_name": "Python 3 (ipykernel)",
   "language": "python",
   "name": "python3"
  },
  "language_info": {
   "codemirror_mode": {
    "name": "ipython",
    "version": 3
   },
   "file_extension": ".py",
   "mimetype": "text/x-python",
   "name": "python",
   "nbconvert_exporter": "python",
   "pygments_lexer": "ipython3",
   "version": "3.9.12"
  }
 },
 "nbformat": 4,
 "nbformat_minor": 5
}
